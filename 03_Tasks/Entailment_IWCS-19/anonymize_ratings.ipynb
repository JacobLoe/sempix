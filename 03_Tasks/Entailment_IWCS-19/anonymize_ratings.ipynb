{
 "cells": [
  {
   "cell_type": "code",
   "execution_count": 10,
   "metadata": {},
   "outputs": [],
   "source": [
    "import pandas as pd\n",
    "from glob import glob\n",
    "import os.path"
   ]
  },
  {
   "cell_type": "code",
   "execution_count": 11,
   "metadata": {},
   "outputs": [],
   "source": [
    "full_results_path = '../../../EntailmentData/Results/'    # this will not work in the public repo\n",
    "out_path = 'Results_Anon'"
   ]
  },
  {
   "cell_type": "code",
   "execution_count": 21,
   "metadata": {},
   "outputs": [],
   "source": [
    "for this_csv in glob(full_results_path + '*.csv'):\n",
    "    this_df = pd.read_csv(this_csv)\n",
    "    diff_workers = this_df['WorkerId'].unique()\n",
    "    worker2id = dict(zip(diff_workers, range(len(diff_workers))))\n",
    "    this_df['WorkerID'] = this_df['WorkerId'].apply(lambda x: worker2id[x])\n",
    "    basename = os.path.basename(this_csv)\n",
    "    filename = os.path.splitext(basename)[0]\n",
    "    this_df.to_csv(os.path.join(out_path, filename + '_anon.csv'))"
   ]
  },
  {
   "cell_type": "code",
   "execution_count": 23,
   "metadata": {},
   "outputs": [
    {
     "data": {
      "text/plain": [
       "0       0\n",
       "1       1\n",
       "2       2\n",
       "3       3\n",
       "4       4\n",
       "5       2\n",
       "6       5\n",
       "7       6\n",
       "8       2\n",
       "9       7\n",
       "10      3\n",
       "11      0\n",
       "12      8\n",
       "13      9\n",
       "14     10\n",
       "15     11\n",
       "16     12\n",
       "17      9\n",
       "18      1\n",
       "19      5\n",
       "20     13\n",
       "21     13\n",
       "22     14\n",
       "23      2\n",
       "24     15\n",
       "25      5\n",
       "26     16\n",
       "27     15\n",
       "28      2\n",
       "29     17\n",
       "       ..\n",
       "150     4\n",
       "151     2\n",
       "152    32\n",
       "153     0\n",
       "154    32\n",
       "155     9\n",
       "156    11\n",
       "157     2\n",
       "158    29\n",
       "159    12\n",
       "160    30\n",
       "161    13\n",
       "162    19\n",
       "163    18\n",
       "164     7\n",
       "165    38\n",
       "166    31\n",
       "167     2\n",
       "168    40\n",
       "169     3\n",
       "170     2\n",
       "171     0\n",
       "172    16\n",
       "173    11\n",
       "174     1\n",
       "175    12\n",
       "176     0\n",
       "177    13\n",
       "178     3\n",
       "179    26\n",
       "Name: WorkerID, Length: 180, dtype: int64"
      ]
     },
     "execution_count": 23,
     "metadata": {},
     "output_type": "execute_result"
    }
   ],
   "source": [
    "pd.read_csv('Results_Anon/capcap_Batch_3501811_batch_results_anon.csv')['WorkerID']"
   ]
  },
  {
   "cell_type": "code",
   "execution_count": null,
   "metadata": {},
   "outputs": [],
   "source": []
  }
 ],
 "metadata": {
  "kernelspec": {
   "display_name": "Python 3",
   "language": "python",
   "name": "python3"
  },
  "language_info": {
   "codemirror_mode": {
    "name": "ipython",
    "version": 3
   },
   "file_extension": ".py",
   "mimetype": "text/x-python",
   "name": "python",
   "nbconvert_exporter": "python",
   "pygments_lexer": "ipython3",
   "version": "3.6.8"
  },
  "latex_envs": {
   "LaTeX_envs_menu_present": true,
   "autoclose": false,
   "autocomplete": true,
   "bibliofile": "biblio.bib",
   "cite_by": "apalike",
   "current_citInitial": 1,
   "eqLabelWithNumbers": true,
   "eqNumInitial": 1,
   "hotkeys": {
    "equation": "alt-ctrl-e"
   },
   "labels_anchors": false,
   "latex_user_defs": false,
   "report_style_numbering": false,
   "user_envs_cfg": false
  },
  "toc": {
   "base_numbering": 1,
   "nav_menu": {},
   "number_sections": true,
   "sideBar": true,
   "skip_h1_title": false,
   "title_cell": "Table of Contents",
   "title_sidebar": "Contents",
   "toc_cell": false,
   "toc_position": {},
   "toc_section_display": true,
   "toc_window_display": false
  }
 },
 "nbformat": 4,
 "nbformat_minor": 2
}
