{
 "cells": [
  {
   "cell_type": "markdown",
   "metadata": {},
   "source": [
    "# Create \"Entailment\" / Implicature Data Sets\n",
    "\n",
    "Create the entailment datasets to be tested via Amazon Mechanical Turk."
   ]
  },
  {
   "cell_type": "code",
   "execution_count": 1,
   "metadata": {},
   "outputs": [],
   "source": [
    "# imports\n",
    "\n",
    "from __future__ import division\n",
    "import codecs\n",
    "import json\n",
    "from itertools import chain, izip, permutations, combinations\n",
    "from collections import Counter, defaultdict\n",
    "import ConfigParser\n",
    "import os\n",
    "import random\n",
    "from textwrap import fill\n",
    "import scipy\n",
    "import sys\n",
    "from copy import deepcopy\n",
    "from nltk.parse import CoreNLPParser\n",
    "import nltk\n",
    "import pandas as pd\n",
    "import numpy as np\n",
    "\n",
    "pd.set_option('max_colwidth', 250)"
   ]
  },
  {
   "cell_type": "code",
   "execution_count": 2,
   "metadata": {},
   "outputs": [],
   "source": [
    "# Load up config file (needs path; adapt env var if necessary); local imports\n",
    "\n",
    "# load config file, set up paths, make project-specific imports\n",
    "config_path = os.environ.get('VISCONF')\n",
    "if not config_path:\n",
    "    # try default location, if not in environment\n",
    "    default_path_to_config = '../Config/default.cfg'\n",
    "    if os.path.isfile(default_path_to_config):\n",
    "        config_path = default_path_to_config\n",
    "\n",
    "assert config_path is not None, 'You need to specify the path to the config file via environment variable VISCONF.'        \n",
    "\n",
    "config = ConfigParser.SafeConfigParser()\n",
    "with codecs.open(config_path, 'r', encoding='utf-8') as f:\n",
    "    config.readfp(f)\n",
    "\n",
    "corpora_base = config.get('DEFAULT', 'corpora_base')\n",
    "preproc_path = config.get('DSGV-PATHS', 'preproc_path')\n",
    "dsgv_home = config.get('DSGV-PATHS', 'dsgv_home')\n",
    "\n",
    "sys.path.append(dsgv_home + '/Utils')\n",
    "from utils import icorpus_code, plot_labelled_bb, get_image_filename, query_by_id\n",
    "from utils import plot_img_cropped, plot_img_ax, invert_dict, get_a_by_b\n",
    "sys.path.append(dsgv_home + '/Preproc')\n",
    "from sim_preproc import load_imsim, n_most_sim"
   ]
  },
  {
   "cell_type": "code",
   "execution_count": 3,
   "metadata": {},
   "outputs": [],
   "source": [
    "# more local imports\n",
    "\n",
    "import utils\n",
    "reload(utils)\n",
    "\n",
    "sys.path.append('../../Common')\n",
    "import data_utils\n",
    "reload(data_utils)\n",
    "from data_utils import load_dfs, plot_rel_by_relid, get_obj_bb, compute_distance_objs\n",
    "from data_utils import get_obj_key, compute_relpos_relargs_row, get_all_predicate\n",
    "from data_utils import compute_distance_relargs_row, get_rel_type, get_rel_instances\n",
    "from data_utils import compute_obj_sizes_row"
   ]
  },
  {
   "cell_type": "code",
   "execution_count": 5,
   "metadata": {},
   "outputs": [],
   "source": [
    "# Load up preprocessed DataFrames. Slow!\n",
    "# These DataFrames are the result of pre-processing the original corpus data,\n",
    "# as per dsg-vision/Preprocessing/preproc.py\n",
    "\n",
    "df_names = ['refcoco_refdf', #'refcocoplus_refdf', 'grex_refdf',\n",
    "            'vgregdf', 'vgimgdf', 'vgobjdf', 'vgreldf', 'vgattdf', 'vgvqadf',\n",
    "            'vgpardf', 'cococapdf']\n",
    "df = load_dfs(preproc_path, df_names)\n",
    "\n",
    "# a derived DF, containing only those region descriptions which I was able to resolve\n",
    "df['vgpregdf'] = df['vgregdf'][df['vgregdf']['pphrase'].notnull() & \n",
    "                               (df['vgregdf']['pphrase'] != '')]\n",
    "\n",
    "# load up pre-computed similarities\n",
    "coco_sem_sim, coco_sem_map = load_imsim(preproc_path + '/mscoco_sim.npz')\n",
    "visg_sem_sim, visg_sem_map = load_imsim(preproc_path + '/visgen_sim.npz')\n",
    "coco_id2semsim = invert_dict(coco_sem_map)\n",
    "visg_id2semsim = invert_dict(visg_sem_map)\n",
    "\n",
    "coco_vis_sim, coco_vis_map = load_imsim(preproc_path + '/mscoco_vis_sim.npz')\n",
    "visg_vis_sim, visg_vis_map = load_imsim(preproc_path + '/visgen_vis_sim.npz')\n",
    "coco_id2vissim = invert_dict(coco_vis_map)\n",
    "visg_id2vissim = invert_dict(visg_vis_map)"
   ]
  },
  {
   "cell_type": "markdown",
   "metadata": {},
   "source": [
    "## Parameters\n",
    "\n",
    "How many triples to sample of each. (Number of rows will be twice that, as this samples both positive and negative hypotheses.)"
   ]
  },
  {
   "cell_type": "code",
   "execution_count": 6,
   "metadata": {},
   "outputs": [],
   "source": [
    "n = 30"
   ]
  },
  {
   "cell_type": "markdown",
   "metadata": {},
   "source": [
    "## refexp / refexp"
   ]
  },
  {
   "cell_type": "code",
   "execution_count": 7,
   "metadata": {},
   "outputs": [
    {
     "data": {
      "text/html": [
       "<div>\n",
       "<style scoped>\n",
       "    .dataframe tbody tr th:only-of-type {\n",
       "        vertical-align: middle;\n",
       "    }\n",
       "\n",
       "    .dataframe tbody tr th {\n",
       "        vertical-align: top;\n",
       "    }\n",
       "\n",
       "    .dataframe thead th {\n",
       "        text-align: right;\n",
       "    }\n",
       "</style>\n",
       "<table border=\"1\" class=\"dataframe\">\n",
       "  <thead>\n",
       "    <tr style=\"text-align: right;\">\n",
       "      <th></th>\n",
       "      <th>i_corpus</th>\n",
       "      <th>image_id</th>\n",
       "      <th>obj_id</th>\n",
       "      <th>syn</th>\n",
       "      <th>name</th>\n",
       "      <th>bb</th>\n",
       "    </tr>\n",
       "  </thead>\n",
       "  <tbody>\n",
       "    <tr>\n",
       "      <th>3875508</th>\n",
       "      <td>5</td>\n",
       "      <td>2417469</td>\n",
       "      <td>3136701</td>\n",
       "      <td>flower.n.01</td>\n",
       "      <td>purple flower</td>\n",
       "      <td>[253, 113, 66, 43]</td>\n",
       "    </tr>\n",
       "  </tbody>\n",
       "</table>\n",
       "</div>"
      ],
      "text/plain": [
       "         i_corpus  image_id   obj_id          syn           name  \\\n",
       "3875508         5   2417469  3136701  flower.n.01  purple flower   \n",
       "\n",
       "                         bb  \n",
       "3875508  [253, 113, 66, 43]  "
      ]
     },
     "execution_count": 7,
     "metadata": {},
     "output_type": "execute_result"
    }
   ],
   "source": [
    "np.random.seed(42)\n",
    "df['vgobjdf'].sample(random_state=42)"
   ]
  },
  {
   "cell_type": "code",
   "execution_count": 8,
   "metadata": {},
   "outputs": [],
   "source": [
    "# pairing premise and hypotheses\n",
    "# n = 30 # how many to do\n",
    "triples = []\n",
    "\n",
    "this_df = df['refcoco_refdf']\n",
    "\n",
    "for _ in range(n):\n",
    "    # seed image\n",
    "    ic, ii, ri, rexi = this_df.sample()['i_corpus image_id region_id rex_id'.split()].values[0]\n",
    "    premise, phyp =  np.random.choice(query_by_id(this_df, (ic, ii, ri), 'refexp'), 2, replace=False)\n",
    "\n",
    "    # negative hypothesis\n",
    "    nhyp = this_df.sample()['refexp'].values[0]\n",
    "    triples.append((premise, phyp, nhyp))"
   ]
  },
  {
   "cell_type": "code",
   "execution_count": 9,
   "metadata": {},
   "outputs": [],
   "source": [
    "out_rows = []\n",
    "for premise, phyp, nhyp in triples:\n",
    "    out_rows.append((premise, phyp, 1))\n",
    "    out_rows.append((premise, nhyp, 0))"
   ]
  },
  {
   "cell_type": "code",
   "execution_count": 10,
   "metadata": {},
   "outputs": [],
   "source": [
    "rexrexdf = pd.DataFrame(out_rows, columns='premise hypothesis label'.split())"
   ]
  },
  {
   "cell_type": "code",
   "execution_count": 11,
   "metadata": {},
   "outputs": [],
   "source": [
    "rexrexdf['prompt'] = 'Assume Text 1 is meant to refer to something (which could be a person, an animal, or a thing) in a picture. Could Text 2 refer to the same thing? (That is, could Text 2 be a clarification of Text 1, in some situation?)'"
   ]
  },
  {
   "cell_type": "code",
   "execution_count": 12,
   "metadata": {},
   "outputs": [
    {
     "data": {
      "text/html": [
       "<div>\n",
       "<style scoped>\n",
       "    .dataframe tbody tr th:only-of-type {\n",
       "        vertical-align: middle;\n",
       "    }\n",
       "\n",
       "    .dataframe tbody tr th {\n",
       "        vertical-align: top;\n",
       "    }\n",
       "\n",
       "    .dataframe thead th {\n",
       "        text-align: right;\n",
       "    }\n",
       "</style>\n",
       "<table border=\"1\" class=\"dataframe\">\n",
       "  <thead>\n",
       "    <tr style=\"text-align: right;\">\n",
       "      <th></th>\n",
       "      <th>premise</th>\n",
       "      <th>hypothesis</th>\n",
       "      <th>label</th>\n",
       "      <th>prompt</th>\n",
       "    </tr>\n",
       "  </thead>\n",
       "  <tbody>\n",
       "    <tr>\n",
       "      <th>0</th>\n",
       "      <td>middle giraffe</td>\n",
       "      <td>giraffe in middle</td>\n",
       "      <td>1</td>\n",
       "      <td>Assume Text 1 is meant to refer to something (which could be a person, an animal, or a thing) in a picture. Could Text 2 refer to the same thing? (That is, could Text 2 be a clarification of Text 1, in some situation?)</td>\n",
       "    </tr>\n",
       "    <tr>\n",
       "      <th>1</th>\n",
       "      <td>middle giraffe</td>\n",
       "      <td>right bus orange and white</td>\n",
       "      <td>0</td>\n",
       "      <td>Assume Text 1 is meant to refer to something (which could be a person, an animal, or a thing) in a picture. Could Text 2 refer to the same thing? (That is, could Text 2 be a clarification of Text 1, in some situation?)</td>\n",
       "    </tr>\n",
       "  </tbody>\n",
       "</table>\n",
       "</div>"
      ],
      "text/plain": [
       "          premise                  hypothesis  label  \\\n",
       "0  middle giraffe           giraffe in middle      1   \n",
       "1  middle giraffe  right bus orange and white      0   \n",
       "\n",
       "                                                                                                                                                                                                                       prompt  \n",
       "0  Assume Text 1 is meant to refer to something (which could be a person, an animal, or a thing) in a picture. Could Text 2 refer to the same thing? (That is, could Text 2 be a clarification of Text 1, in some situation?)  \n",
       "1  Assume Text 1 is meant to refer to something (which could be a person, an animal, or a thing) in a picture. Could Text 2 refer to the same thing? (That is, could Text 2 be a clarification of Text 1, in some situation?)  "
      ]
     },
     "execution_count": 12,
     "metadata": {},
     "output_type": "execute_result"
    }
   ],
   "source": [
    "rexrexdf.head(2)"
   ]
  },
  {
   "cell_type": "code",
   "execution_count": 13,
   "metadata": {},
   "outputs": [],
   "source": [
    "rexrexdf.sample(frac=1).to_csv('To_Test/rexrex.csv', index=False)"
   ]
  },
  {
   "cell_type": "markdown",
   "metadata": {},
   "source": [
    "## caption / caption"
   ]
  },
  {
   "cell_type": "code",
   "execution_count": 14,
   "metadata": {},
   "outputs": [],
   "source": [
    "# pairing premise and hypotheses\n",
    "#n = 50 # how many to do\n",
    "tuples = []\n",
    "\n",
    "this_df = df['cococapdf']\n",
    "ic = icorpus_code['mscoco']\n",
    "\n",
    "for _ in range(n):\n",
    "    # seed image\n",
    "    ii = np.random.choice(coco_id2semsim.keys())\n",
    "    premise, phyp =  np.random.choice(query_by_id(this_df, (ic, ii), 'caption'), 2, replace=False)\n",
    "\n",
    "    # negative hypothesis\n",
    "    sim_ids = n_most_sim(coco_sem_sim, coco_sem_map, coco_id2semsim[ii], n=5)\n",
    "    n_ii = np.random.choice(sim_ids[1:])\n",
    "    nhyp = this_df[this_df['image_id'] == n_ii]['caption'].values[0]\n",
    "    \n",
    "    tuples.append((premise, phyp, nhyp))"
   ]
  },
  {
   "cell_type": "code",
   "execution_count": 15,
   "metadata": {},
   "outputs": [
    {
     "data": {
      "text/plain": [
       "30"
      ]
     },
     "execution_count": 15,
     "metadata": {},
     "output_type": "execute_result"
    }
   ],
   "source": [
    "len(tuples)"
   ]
  },
  {
   "cell_type": "code",
   "execution_count": 16,
   "metadata": {},
   "outputs": [],
   "source": [
    "out_rows = []\n",
    "for premise, phyp, nhyp in tuples:\n",
    "    out_rows.append((premise, phyp, 1))\n",
    "    out_rows.append((premise, nhyp, 0))"
   ]
  },
  {
   "cell_type": "code",
   "execution_count": 17,
   "metadata": {},
   "outputs": [],
   "source": [
    "capcapdf = pd.DataFrame(out_rows, columns='premise hypothesis label'.split())"
   ]
  },
  {
   "cell_type": "code",
   "execution_count": 18,
   "metadata": {},
   "outputs": [],
   "source": [
    "prompt = '''Is Text 2 likely to be describing the same situation as Text 1?'''"
   ]
  },
  {
   "cell_type": "code",
   "execution_count": 19,
   "metadata": {},
   "outputs": [],
   "source": [
    "capcapdf['prompt'] = prompt"
   ]
  },
  {
   "cell_type": "code",
   "execution_count": 20,
   "metadata": {},
   "outputs": [
    {
     "data": {
      "text/html": [
       "<div>\n",
       "<style scoped>\n",
       "    .dataframe tbody tr th:only-of-type {\n",
       "        vertical-align: middle;\n",
       "    }\n",
       "\n",
       "    .dataframe tbody tr th {\n",
       "        vertical-align: top;\n",
       "    }\n",
       "\n",
       "    .dataframe thead th {\n",
       "        text-align: right;\n",
       "    }\n",
       "</style>\n",
       "<table border=\"1\" class=\"dataframe\">\n",
       "  <thead>\n",
       "    <tr style=\"text-align: right;\">\n",
       "      <th></th>\n",
       "      <th>premise</th>\n",
       "      <th>hypothesis</th>\n",
       "      <th>label</th>\n",
       "      <th>prompt</th>\n",
       "    </tr>\n",
       "  </thead>\n",
       "  <tbody>\n",
       "    <tr>\n",
       "      <th>0</th>\n",
       "      <td>Salmon and egg yolks on toast on a plate with eggs and tomatoes on toast.</td>\n",
       "      <td>The sandwich has many slices of hard boiled eggs.</td>\n",
       "      <td>1</td>\n",
       "      <td>Is Text 2 likely to be describing the same situation as Text 1?</td>\n",
       "    </tr>\n",
       "    <tr>\n",
       "      <th>1</th>\n",
       "      <td>Salmon and egg yolks on toast on a plate with eggs and tomatoes on toast.</td>\n",
       "      <td>An editorial sandwich on a plate and newspaper.</td>\n",
       "      <td>0</td>\n",
       "      <td>Is Text 2 likely to be describing the same situation as Text 1?</td>\n",
       "    </tr>\n",
       "  </tbody>\n",
       "</table>\n",
       "</div>"
      ],
      "text/plain": [
       "                                                                     premise  \\\n",
       "0  Salmon and egg yolks on toast on a plate with eggs and tomatoes on toast.   \n",
       "1  Salmon and egg yolks on toast on a plate with eggs and tomatoes on toast.   \n",
       "\n",
       "                                           hypothesis  label  \\\n",
       "0  The sandwich has many slices of hard boiled eggs.       1   \n",
       "1     An editorial sandwich on a plate and newspaper.      0   \n",
       "\n",
       "                                                            prompt  \n",
       "0  Is Text 2 likely to be describing the same situation as Text 1?  \n",
       "1  Is Text 2 likely to be describing the same situation as Text 1?  "
      ]
     },
     "execution_count": 20,
     "metadata": {},
     "output_type": "execute_result"
    }
   ],
   "source": [
    "capcapdf.head(2)"
   ]
  },
  {
   "cell_type": "code",
   "execution_count": 21,
   "metadata": {},
   "outputs": [],
   "source": [
    "capcapdf.sample(frac=1).to_csv('To_Test/capcap.csv', index=False)"
   ]
  },
  {
   "cell_type": "markdown",
   "metadata": {},
   "source": [
    "## Caption / There is"
   ]
  },
  {
   "cell_type": "code",
   "execution_count": 22,
   "metadata": {},
   "outputs": [],
   "source": [
    "# intersecting visual genome and coco captions. Slow-ish.\n",
    "caption_coco_iids = list(set(df['cococapdf']['image_id'].tolist()))\n",
    "# regions for only those image for which we also have coco captions\n",
    "visgencocap_regdf = df['vgregdf'].merge(pd.DataFrame(caption_coco_iids, columns=['coco_id']))\n",
    "# coco_image_ids for images with both caption and region\n",
    "vgcap_coco_iids = list(set(visgencocap_regdf['coco_id'].tolist()))\n",
    "# visgen_image_ids for images with both caption and region\n",
    "vgcap_vg_iids = list(set(visgencocap_regdf['image_id'].tolist()))\n",
    "\n",
    "# map coco_ids to visgen_ids, and back\n",
    "coco2vg = dict(visgencocap_regdf[['coco_id', 'image_id']].values)\n",
    "vg2coco = dict([(v,k) for k,v in coco2vg.items()])\n",
    "\n",
    "df['vgpardf']['coco_image_id'] = df['vgpardf']['image_id'].apply(lambda x: vg2coco.get(x, None))\n",
    "df['cocoparcapdf'] = df['cococapdf'].merge(df['vgpardf'],\n",
    "                                           left_on='image_id', right_on='coco_image_id')"
   ]
  },
  {
   "cell_type": "code",
   "execution_count": 23,
   "metadata": {},
   "outputs": [],
   "source": [
    "# captions and objects (slotted into \"there is __\" frame)\n",
    "tuples = []\n",
    "\n",
    "#n = 50\n",
    "\n",
    "i = 0\n",
    "while i < n:\n",
    "    vgii, cocoii = visgencocap_regdf.sample()['image_id coco_id'.split()].values[0]\n",
    "    prem = df['cococapdf'][df['cococapdf']['image_id'] == cocoii].sample()['caption'].values[0]\n",
    "    try:\n",
    "        phyp = df['vgobjdf'][df['vgobjdf']['image_id'] == vgii].sample()['name'].values[0]\n",
    "        i += 1\n",
    "    except:\n",
    "        continue\n",
    "    nhyp = df['vgobjdf'].sample()['name'].values[0]\n",
    "    tuples.append((prem, phyp, nhyp))"
   ]
  },
  {
   "cell_type": "code",
   "execution_count": 24,
   "metadata": {},
   "outputs": [
    {
     "data": {
      "text/plain": [
       "30"
      ]
     },
     "execution_count": 24,
     "metadata": {},
     "output_type": "execute_result"
    }
   ],
   "source": [
    "len(tuples)"
   ]
  },
  {
   "cell_type": "code",
   "execution_count": 25,
   "metadata": {},
   "outputs": [],
   "source": [
    "def add_existential_prefix(instring):\n",
    "    prefix = 'There are ' if instring.endswith('s') else 'There is (a) '\n",
    "    return prefix + instring"
   ]
  },
  {
   "cell_type": "code",
   "execution_count": 26,
   "metadata": {},
   "outputs": [],
   "source": [
    "out_rows = []\n",
    "for premise, phyp, nhyp in tuples:\n",
    "    out_rows.append((premise, add_existential_prefix(phyp), 1))\n",
    "    out_rows.append((premise, add_existential_prefix(nhyp), 0))"
   ]
  },
  {
   "cell_type": "code",
   "execution_count": 27,
   "metadata": {},
   "outputs": [],
   "source": [
    "capobjdf = pd.DataFrame(out_rows, columns='premise hypothesis label'.split())"
   ]
  },
  {
   "cell_type": "code",
   "execution_count": 28,
   "metadata": {},
   "outputs": [
    {
     "data": {
      "text/html": [
       "<div>\n",
       "<style scoped>\n",
       "    .dataframe tbody tr th:only-of-type {\n",
       "        vertical-align: middle;\n",
       "    }\n",
       "\n",
       "    .dataframe tbody tr th {\n",
       "        vertical-align: top;\n",
       "    }\n",
       "\n",
       "    .dataframe thead th {\n",
       "        text-align: right;\n",
       "    }\n",
       "</style>\n",
       "<table border=\"1\" class=\"dataframe\">\n",
       "  <thead>\n",
       "    <tr style=\"text-align: right;\">\n",
       "      <th></th>\n",
       "      <th>premise</th>\n",
       "      <th>hypothesis</th>\n",
       "      <th>label</th>\n",
       "    </tr>\n",
       "  </thead>\n",
       "  <tbody>\n",
       "    <tr>\n",
       "      <th>0</th>\n",
       "      <td>Bunch of people out in the water on surfboards waiting for a wave</td>\n",
       "      <td>There is (a) person</td>\n",
       "      <td>1</td>\n",
       "    </tr>\n",
       "    <tr>\n",
       "      <th>1</th>\n",
       "      <td>Bunch of people out in the water on surfboards waiting for a wave</td>\n",
       "      <td>There is (a) hair</td>\n",
       "      <td>0</td>\n",
       "    </tr>\n",
       "    <tr>\n",
       "      <th>2</th>\n",
       "      <td>The plate has a fork, english muffins, and sauce on it.</td>\n",
       "      <td>There is (a) lettuce</td>\n",
       "      <td>1</td>\n",
       "    </tr>\n",
       "    <tr>\n",
       "      <th>3</th>\n",
       "      <td>The plate has a fork, english muffins, and sauce on it.</td>\n",
       "      <td>There are writings</td>\n",
       "      <td>0</td>\n",
       "    </tr>\n",
       "    <tr>\n",
       "      <th>4</th>\n",
       "      <td>THERE IS AN IMAGE OF A BATHROOM WITH A TOILET IN THERE</td>\n",
       "      <td>There is (a) floor</td>\n",
       "      <td>1</td>\n",
       "    </tr>\n",
       "    <tr>\n",
       "      <th>5</th>\n",
       "      <td>THERE IS AN IMAGE OF A BATHROOM WITH A TOILET IN THERE</td>\n",
       "      <td>There is (a) road</td>\n",
       "      <td>0</td>\n",
       "    </tr>\n",
       "    <tr>\n",
       "      <th>6</th>\n",
       "      <td>a white plate a fork and a pizza with black olives</td>\n",
       "      <td>There is (a) pizza</td>\n",
       "      <td>1</td>\n",
       "    </tr>\n",
       "    <tr>\n",
       "      <th>7</th>\n",
       "      <td>a white plate a fork and a pizza with black olives</td>\n",
       "      <td>There is (a) bag</td>\n",
       "      <td>0</td>\n",
       "    </tr>\n",
       "    <tr>\n",
       "      <th>8</th>\n",
       "      <td>A couple of young women standing near a counter preparing food.</td>\n",
       "      <td>There is (a) woman</td>\n",
       "      <td>1</td>\n",
       "    </tr>\n",
       "    <tr>\n",
       "      <th>9</th>\n",
       "      <td>A couple of young women standing near a counter preparing food.</td>\n",
       "      <td>There is (a) sticker</td>\n",
       "      <td>0</td>\n",
       "    </tr>\n",
       "  </tbody>\n",
       "</table>\n",
       "</div>"
      ],
      "text/plain": [
       "                                                             premise  \\\n",
       "0  Bunch of people out in the water on surfboards waiting for a wave   \n",
       "1  Bunch of people out in the water on surfboards waiting for a wave   \n",
       "2            The plate has a fork, english muffins, and sauce on it.   \n",
       "3            The plate has a fork, english muffins, and sauce on it.   \n",
       "4            THERE IS AN IMAGE OF A BATHROOM WITH A TOILET IN THERE    \n",
       "5            THERE IS AN IMAGE OF A BATHROOM WITH A TOILET IN THERE    \n",
       "6                 a white plate a fork and a pizza with black olives   \n",
       "7                 a white plate a fork and a pizza with black olives   \n",
       "8    A couple of young women standing near a counter preparing food.   \n",
       "9    A couple of young women standing near a counter preparing food.   \n",
       "\n",
       "             hypothesis  label  \n",
       "0   There is (a) person      1  \n",
       "1     There is (a) hair      0  \n",
       "2  There is (a) lettuce      1  \n",
       "3    There are writings      0  \n",
       "4    There is (a) floor      1  \n",
       "5     There is (a) road      0  \n",
       "6    There is (a) pizza      1  \n",
       "7      There is (a) bag      0  \n",
       "8    There is (a) woman      1  \n",
       "9  There is (a) sticker      0  "
      ]
     },
     "execution_count": 28,
     "metadata": {},
     "output_type": "execute_result"
    }
   ],
   "source": [
    "capobjdf.head(10)"
   ]
  },
  {
   "cell_type": "code",
   "execution_count": 29,
   "metadata": {},
   "outputs": [],
   "source": [
    "prompt = '''Using what you know about the world, in the situation described by Text 1, is Text 2 likely to be true?'''"
   ]
  },
  {
   "cell_type": "code",
   "execution_count": 30,
   "metadata": {},
   "outputs": [],
   "source": [
    "capobjdf['prompt'] = prompt"
   ]
  },
  {
   "cell_type": "code",
   "execution_count": 31,
   "metadata": {
    "scrolled": true
   },
   "outputs": [
    {
     "data": {
      "text/html": [
       "<div>\n",
       "<style scoped>\n",
       "    .dataframe tbody tr th:only-of-type {\n",
       "        vertical-align: middle;\n",
       "    }\n",
       "\n",
       "    .dataframe tbody tr th {\n",
       "        vertical-align: top;\n",
       "    }\n",
       "\n",
       "    .dataframe thead th {\n",
       "        text-align: right;\n",
       "    }\n",
       "</style>\n",
       "<table border=\"1\" class=\"dataframe\">\n",
       "  <thead>\n",
       "    <tr style=\"text-align: right;\">\n",
       "      <th></th>\n",
       "      <th>premise</th>\n",
       "      <th>hypothesis</th>\n",
       "      <th>label</th>\n",
       "      <th>prompt</th>\n",
       "    </tr>\n",
       "  </thead>\n",
       "  <tbody>\n",
       "    <tr>\n",
       "      <th>0</th>\n",
       "      <td>Bunch of people out in the water on surfboards waiting for a wave</td>\n",
       "      <td>There is (a) person</td>\n",
       "      <td>1</td>\n",
       "      <td>Using what you know about the world, in the situation described by Text 1, is Text 2 likely to be true?</td>\n",
       "    </tr>\n",
       "    <tr>\n",
       "      <th>1</th>\n",
       "      <td>Bunch of people out in the water on surfboards waiting for a wave</td>\n",
       "      <td>There is (a) hair</td>\n",
       "      <td>0</td>\n",
       "      <td>Using what you know about the world, in the situation described by Text 1, is Text 2 likely to be true?</td>\n",
       "    </tr>\n",
       "  </tbody>\n",
       "</table>\n",
       "</div>"
      ],
      "text/plain": [
       "                                                             premise  \\\n",
       "0  Bunch of people out in the water on surfboards waiting for a wave   \n",
       "1  Bunch of people out in the water on surfboards waiting for a wave   \n",
       "\n",
       "            hypothesis  label  \\\n",
       "0  There is (a) person      1   \n",
       "1    There is (a) hair      0   \n",
       "\n",
       "                                                                                                    prompt  \n",
       "0  Using what you know about the world, in the situation described by Text 1, is Text 2 likely to be true?  \n",
       "1  Using what you know about the world, in the situation described by Text 1, is Text 2 likely to be true?  "
      ]
     },
     "execution_count": 31,
     "metadata": {},
     "output_type": "execute_result"
    }
   ],
   "source": [
    "capobjdf.head(2)"
   ]
  },
  {
   "cell_type": "code",
   "execution_count": 32,
   "metadata": {},
   "outputs": [],
   "source": [
    "capobjdf.sample(frac=1).to_csv('To_Test/capobj.csv', index=False)"
   ]
  },
  {
   "cell_type": "markdown",
   "metadata": {},
   "source": [
    "## Caption / Region Description"
   ]
  },
  {
   "cell_type": "code",
   "execution_count": 33,
   "metadata": {},
   "outputs": [],
   "source": [
    "#n = 50\n",
    "\n",
    "tuples = []\n",
    "\n",
    "i = 0\n",
    "# caption + region description\n",
    "while i < n:\n",
    "    try:\n",
    "        p_caps = []\n",
    "        while len(p_caps) == 0:\n",
    "            coco_ii = np.nan\n",
    "            while np.isnan(coco_ii):\n",
    "                ic, vg_ii, coco_ii = df['vgimgdf'].sample()[['i_corpus', 'image_id', 'coco_id']].values[0]\n",
    "            p_caps = query_by_id(df['cococapdf'], (icorpus_code['mscoco'], coco_ii))\n",
    "        p_cap_ind = random.choice(range(len(p_caps)))\n",
    "        p_cap = p_caps.iloc[p_cap_ind]['caption']\n",
    "        p_row = p_caps.index[p_cap_ind]\n",
    "\n",
    "        p_hyp_regions = query_by_id(df['vgpregdf'], (ic, vg_ii))\n",
    "        p_hyp_regions = p_hyp_regions[~p_hyp_regions['rels'].isnull()]\n",
    "        p_hyp_reg, p_hyp_relids, p_hyp_rels, p_hyp_pphrase = \\\n",
    "            p_hyp_regions.sample()['phrase rel_ids rels pphrase'.split()].values[0]\n",
    "\n",
    "        n_hyp_reg, n_hyp_relids, n_hyp_rels, n_hyp_pphrase = \\\n",
    "            df['vgpregdf'].sample()['phrase rel_ids rels pphrase'.split()].values[0]\n",
    "\n",
    "        tuples.append((p_cap, p_hyp_reg, n_hyp_reg))\n",
    "        \n",
    "        i += 1\n",
    "    except:\n",
    "        continue"
   ]
  },
  {
   "cell_type": "code",
   "execution_count": 34,
   "metadata": {},
   "outputs": [],
   "source": [
    "def add_existential_prefix_b(instring):\n",
    "    if ' is ' in instring:\n",
    "        outstring = instring\n",
    "    else:\n",
    "        outstring = 'There are / is (a) ' + instring\n",
    "    return outstring"
   ]
  },
  {
   "cell_type": "code",
   "execution_count": 35,
   "metadata": {},
   "outputs": [],
   "source": [
    "out_rows = []\n",
    "for premise, phyp, nhyp in tuples:\n",
    "    out_rows.append((premise, add_existential_prefix_b(phyp), 1))\n",
    "    out_rows.append((premise, add_existential_prefix_b(nhyp), 0))"
   ]
  },
  {
   "cell_type": "code",
   "execution_count": 36,
   "metadata": {},
   "outputs": [],
   "source": [
    "capregdf = pd.DataFrame(out_rows, columns='premise hypothesis label'.split())"
   ]
  },
  {
   "cell_type": "code",
   "execution_count": 37,
   "metadata": {},
   "outputs": [
    {
     "data": {
      "text/html": [
       "<div>\n",
       "<style scoped>\n",
       "    .dataframe tbody tr th:only-of-type {\n",
       "        vertical-align: middle;\n",
       "    }\n",
       "\n",
       "    .dataframe tbody tr th {\n",
       "        vertical-align: top;\n",
       "    }\n",
       "\n",
       "    .dataframe thead th {\n",
       "        text-align: right;\n",
       "    }\n",
       "</style>\n",
       "<table border=\"1\" class=\"dataframe\">\n",
       "  <thead>\n",
       "    <tr style=\"text-align: right;\">\n",
       "      <th></th>\n",
       "      <th>premise</th>\n",
       "      <th>hypothesis</th>\n",
       "      <th>label</th>\n",
       "    </tr>\n",
       "  </thead>\n",
       "  <tbody>\n",
       "    <tr>\n",
       "      <th>0</th>\n",
       "      <td>A woman wearing a very colorful costume while checking her phone.</td>\n",
       "      <td>the woman`s stomach is showing</td>\n",
       "      <td>1</td>\n",
       "    </tr>\n",
       "    <tr>\n",
       "      <th>1</th>\n",
       "      <td>A woman wearing a very colorful costume while checking her phone.</td>\n",
       "      <td>There are / is (a) the wires are over the buses</td>\n",
       "      <td>0</td>\n",
       "    </tr>\n",
       "    <tr>\n",
       "      <th>2</th>\n",
       "      <td>A very large cruise ship docked next to a blue train.</td>\n",
       "      <td>There are / is (a) British flag on side of train</td>\n",
       "      <td>1</td>\n",
       "    </tr>\n",
       "    <tr>\n",
       "      <th>3</th>\n",
       "      <td>A very large cruise ship docked next to a blue train.</td>\n",
       "      <td>The striped shirt the man on the right is wearing.</td>\n",
       "      <td>0</td>\n",
       "    </tr>\n",
       "    <tr>\n",
       "      <th>4</th>\n",
       "      <td>A man holding an umbrella while standing next to people at a bus stop.</td>\n",
       "      <td>A person is wearing nice eyeglasses</td>\n",
       "      <td>1</td>\n",
       "    </tr>\n",
       "    <tr>\n",
       "      <th>5</th>\n",
       "      <td>A man holding an umbrella while standing next to people at a bus stop.</td>\n",
       "      <td>There are / is (a) kite flying in the sky</td>\n",
       "      <td>0</td>\n",
       "    </tr>\n",
       "    <tr>\n",
       "      <th>6</th>\n",
       "      <td>a group of people sitting around a dinner table.</td>\n",
       "      <td>There are / is (a) bottle on the table</td>\n",
       "      <td>1</td>\n",
       "    </tr>\n",
       "    <tr>\n",
       "      <th>7</th>\n",
       "      <td>a group of people sitting around a dinner table.</td>\n",
       "      <td>There are / is (a) words on white tag</td>\n",
       "      <td>0</td>\n",
       "    </tr>\n",
       "    <tr>\n",
       "      <th>8</th>\n",
       "      <td>A kid doing a trick on a skateboard on a ramp.</td>\n",
       "      <td>There are / is (a) a man on a skateboard</td>\n",
       "      <td>1</td>\n",
       "    </tr>\n",
       "    <tr>\n",
       "      <th>9</th>\n",
       "      <td>A kid doing a trick on a skateboard on a ramp.</td>\n",
       "      <td>There are / is (a) left hand of man in ocean</td>\n",
       "      <td>0</td>\n",
       "    </tr>\n",
       "    <tr>\n",
       "      <th>10</th>\n",
       "      <td>Three boys line up dressed in their baseball uniforms</td>\n",
       "      <td>There are / is (a) grass on the ground.</td>\n",
       "      <td>1</td>\n",
       "    </tr>\n",
       "    <tr>\n",
       "      <th>11</th>\n",
       "      <td>Three boys line up dressed in their baseball uniforms</td>\n",
       "      <td>There are / is (a) white grout in blue tile</td>\n",
       "      <td>0</td>\n",
       "    </tr>\n",
       "    <tr>\n",
       "      <th>12</th>\n",
       "      <td>A statue of a lion and a building with a clock .</td>\n",
       "      <td>There are / is (a) A decorative statue on a building</td>\n",
       "      <td>1</td>\n",
       "    </tr>\n",
       "    <tr>\n",
       "      <th>13</th>\n",
       "      <td>A statue of a lion and a building with a clock .</td>\n",
       "      <td>There are / is (a) the ear of a dog</td>\n",
       "      <td>0</td>\n",
       "    </tr>\n",
       "    <tr>\n",
       "      <th>14</th>\n",
       "      <td>A military jet and two old war planes flying close to each other.</td>\n",
       "      <td>There are / is (a) three planes in the sky</td>\n",
       "      <td>1</td>\n",
       "    </tr>\n",
       "    <tr>\n",
       "      <th>15</th>\n",
       "      <td>A military jet and two old war planes flying close to each other.</td>\n",
       "      <td>There are / is (a) The man has blond hair.</td>\n",
       "      <td>0</td>\n",
       "    </tr>\n",
       "    <tr>\n",
       "      <th>16</th>\n",
       "      <td>An elephant with tusks is standing near the bank of the water.</td>\n",
       "      <td>There are / is (a) a elephant in the water</td>\n",
       "      <td>1</td>\n",
       "    </tr>\n",
       "    <tr>\n",
       "      <th>17</th>\n",
       "      <td>An elephant with tusks is standing near the bank of the water.</td>\n",
       "      <td>There are / is (a) The head of a giraffe</td>\n",
       "      <td>0</td>\n",
       "    </tr>\n",
       "    <tr>\n",
       "      <th>18</th>\n",
       "      <td>An outside meeting area with horses, men, women and bikes.</td>\n",
       "      <td>Woman is wearing skirt</td>\n",
       "      <td>1</td>\n",
       "    </tr>\n",
       "    <tr>\n",
       "      <th>19</th>\n",
       "      <td>An outside meeting area with horses, men, women and bikes.</td>\n",
       "      <td>There are / is (a) a window on the building</td>\n",
       "      <td>0</td>\n",
       "    </tr>\n",
       "  </tbody>\n",
       "</table>\n",
       "</div>"
      ],
      "text/plain": [
       "                                                                   premise  \\\n",
       "0        A woman wearing a very colorful costume while checking her phone.   \n",
       "1        A woman wearing a very colorful costume while checking her phone.   \n",
       "2                    A very large cruise ship docked next to a blue train.   \n",
       "3                    A very large cruise ship docked next to a blue train.   \n",
       "4   A man holding an umbrella while standing next to people at a bus stop.   \n",
       "5   A man holding an umbrella while standing next to people at a bus stop.   \n",
       "6                         a group of people sitting around a dinner table.   \n",
       "7                         a group of people sitting around a dinner table.   \n",
       "8                           A kid doing a trick on a skateboard on a ramp.   \n",
       "9                           A kid doing a trick on a skateboard on a ramp.   \n",
       "10                   Three boys line up dressed in their baseball uniforms   \n",
       "11                   Three boys line up dressed in their baseball uniforms   \n",
       "12                        A statue of a lion and a building with a clock .   \n",
       "13                        A statue of a lion and a building with a clock .   \n",
       "14       A military jet and two old war planes flying close to each other.   \n",
       "15       A military jet and two old war planes flying close to each other.   \n",
       "16          An elephant with tusks is standing near the bank of the water.   \n",
       "17          An elephant with tusks is standing near the bank of the water.   \n",
       "18            An outside meeting area with horses, men, women and bikes.     \n",
       "19            An outside meeting area with horses, men, women and bikes.     \n",
       "\n",
       "                                              hypothesis  label  \n",
       "0                         the woman`s stomach is showing      1  \n",
       "1        There are / is (a) the wires are over the buses      0  \n",
       "2       There are / is (a) British flag on side of train      1  \n",
       "3     The striped shirt the man on the right is wearing.      0  \n",
       "4                    A person is wearing nice eyeglasses      1  \n",
       "5              There are / is (a) kite flying in the sky      0  \n",
       "6                There are / is (a) bottle on the table       1  \n",
       "7                  There are / is (a) words on white tag      0  \n",
       "8               There are / is (a) a man on a skateboard      1  \n",
       "9           There are / is (a) left hand of man in ocean      0  \n",
       "10               There are / is (a) grass on the ground.      1  \n",
       "11           There are / is (a) white grout in blue tile      0  \n",
       "12  There are / is (a) A decorative statue on a building      1  \n",
       "13                  There are / is (a) the ear of a dog       0  \n",
       "14            There are / is (a) three planes in the sky      1  \n",
       "15            There are / is (a) The man has blond hair.      0  \n",
       "16            There are / is (a) a elephant in the water      1  \n",
       "17              There are / is (a) The head of a giraffe      0  \n",
       "18                                Woman is wearing skirt      1  \n",
       "19           There are / is (a) a window on the building      0  "
      ]
     },
     "execution_count": 37,
     "metadata": {},
     "output_type": "execute_result"
    }
   ],
   "source": [
    "capregdf.head(20)"
   ]
  },
  {
   "cell_type": "code",
   "execution_count": 38,
   "metadata": {},
   "outputs": [],
   "source": [
    "prompt = '''Using what you know about the world, in the situation described by Text 1, is Text 2 likely to be true?'''"
   ]
  },
  {
   "cell_type": "code",
   "execution_count": 39,
   "metadata": {},
   "outputs": [],
   "source": [
    "capregdf['prompt'] = prompt"
   ]
  },
  {
   "cell_type": "code",
   "execution_count": 40,
   "metadata": {
    "scrolled": true
   },
   "outputs": [
    {
     "data": {
      "text/html": [
       "<div>\n",
       "<style scoped>\n",
       "    .dataframe tbody tr th:only-of-type {\n",
       "        vertical-align: middle;\n",
       "    }\n",
       "\n",
       "    .dataframe tbody tr th {\n",
       "        vertical-align: top;\n",
       "    }\n",
       "\n",
       "    .dataframe thead th {\n",
       "        text-align: right;\n",
       "    }\n",
       "</style>\n",
       "<table border=\"1\" class=\"dataframe\">\n",
       "  <thead>\n",
       "    <tr style=\"text-align: right;\">\n",
       "      <th></th>\n",
       "      <th>premise</th>\n",
       "      <th>hypothesis</th>\n",
       "      <th>label</th>\n",
       "      <th>prompt</th>\n",
       "    </tr>\n",
       "  </thead>\n",
       "  <tbody>\n",
       "    <tr>\n",
       "      <th>0</th>\n",
       "      <td>A woman wearing a very colorful costume while checking her phone.</td>\n",
       "      <td>the woman`s stomach is showing</td>\n",
       "      <td>1</td>\n",
       "      <td>Using what you know about the world, in the situation described by Text 1, is Text 2 likely to be true?</td>\n",
       "    </tr>\n",
       "    <tr>\n",
       "      <th>1</th>\n",
       "      <td>A woman wearing a very colorful costume while checking her phone.</td>\n",
       "      <td>There are / is (a) the wires are over the buses</td>\n",
       "      <td>0</td>\n",
       "      <td>Using what you know about the world, in the situation described by Text 1, is Text 2 likely to be true?</td>\n",
       "    </tr>\n",
       "  </tbody>\n",
       "</table>\n",
       "</div>"
      ],
      "text/plain": [
       "                                                             premise  \\\n",
       "0  A woman wearing a very colorful costume while checking her phone.   \n",
       "1  A woman wearing a very colorful costume while checking her phone.   \n",
       "\n",
       "                                        hypothesis  label  \\\n",
       "0                   the woman`s stomach is showing      1   \n",
       "1  There are / is (a) the wires are over the buses      0   \n",
       "\n",
       "                                                                                                    prompt  \n",
       "0  Using what you know about the world, in the situation described by Text 1, is Text 2 likely to be true?  \n",
       "1  Using what you know about the world, in the situation described by Text 1, is Text 2 likely to be true?  "
      ]
     },
     "execution_count": 40,
     "metadata": {},
     "output_type": "execute_result"
    }
   ],
   "source": [
    "capregdf.head(2)"
   ]
  },
  {
   "cell_type": "code",
   "execution_count": 41,
   "metadata": {},
   "outputs": [],
   "source": [
    "capregdf.sample(frac=1).to_csv('To_Test/capreg.csv', index=False)"
   ]
  },
  {
   "cell_type": "markdown",
   "metadata": {},
   "source": [
    "## Caption / Deep Caption"
   ]
  },
  {
   "cell_type": "code",
   "execution_count": 42,
   "metadata": {},
   "outputs": [],
   "source": [
    "# caption, paragraph for same image, paragraph for different by similar image\n",
    "#n = 50\n",
    "\n",
    "available_iis_cappar = df['cocoparcapdf']['image_id_x']\n",
    "available_iis_sim = coco_id2semsim.keys()\n",
    "available_iis = set(available_iis_cappar).intersection(available_iis_sim)\n",
    "# len(available_iis)    # Only 1503 available...\n",
    "\n",
    "tuples = []\n",
    "\n",
    "for _ in range(n):\n",
    "    ii = np.random.choice(list(available_iis))\n",
    "    cap, ppar = df['cocoparcapdf'][df['cocoparcapdf']['image_id_x'] == ii]['caption paragraph'.split()].values[0]\n",
    "    all_sim = n_most_sim(coco_sem_sim, coco_sem_map, coco_id2semsim[ii], n=200)\n",
    "    all_neg = set(available_iis).intersection(all_sim)\n",
    "    nii = np.random.choice(list(all_neg))\n",
    "    npar = df['cocoparcapdf'][df['cocoparcapdf']['image_id_x'] == nii]['paragraph'].values[0]\n",
    "\n",
    "    tuples.append((cap, ppar, npar))"
   ]
  },
  {
   "cell_type": "code",
   "execution_count": 43,
   "metadata": {},
   "outputs": [],
   "source": [
    "out_rows = []\n",
    "for premise, phyp, nhyp in tuples:\n",
    "    out_rows.append((premise, phyp, 1))\n",
    "    out_rows.append((premise, nhyp, 0))"
   ]
  },
  {
   "cell_type": "code",
   "execution_count": 44,
   "metadata": {},
   "outputs": [],
   "source": [
    "capdeepdf = pd.DataFrame(out_rows, columns='premise hypothesis label'.split())"
   ]
  },
  {
   "cell_type": "code",
   "execution_count": 45,
   "metadata": {},
   "outputs": [
    {
     "data": {
      "text/html": [
       "<div>\n",
       "<style scoped>\n",
       "    .dataframe tbody tr th:only-of-type {\n",
       "        vertical-align: middle;\n",
       "    }\n",
       "\n",
       "    .dataframe tbody tr th {\n",
       "        vertical-align: top;\n",
       "    }\n",
       "\n",
       "    .dataframe thead th {\n",
       "        text-align: right;\n",
       "    }\n",
       "</style>\n",
       "<table border=\"1\" class=\"dataframe\">\n",
       "  <thead>\n",
       "    <tr style=\"text-align: right;\">\n",
       "      <th></th>\n",
       "      <th>premise</th>\n",
       "      <th>hypothesis</th>\n",
       "      <th>label</th>\n",
       "    </tr>\n",
       "  </thead>\n",
       "  <tbody>\n",
       "    <tr>\n",
       "      <th>0</th>\n",
       "      <td>a female tennis player in a black top playing tennis</td>\n",
       "      <td>A woman in a black tennis outfit is standing on a blue tennis court. She is holding a tennis racket and hitting a green tennis ball. She is wearing a red hat on her head.</td>\n",
       "      <td>1</td>\n",
       "    </tr>\n",
       "    <tr>\n",
       "      <th>1</th>\n",
       "      <td>a female tennis player in a black top playing tennis</td>\n",
       "      <td>Four children are standing on a tennis court. All of them are holding rackets in their hands. They are standing in a partial line behind each other. A green tennis ball is soaring in the air towards the first child. The tennis court has a pink ha...</td>\n",
       "      <td>0</td>\n",
       "    </tr>\n",
       "    <tr>\n",
       "      <th>2</th>\n",
       "      <td>A dog walking next to cows in a field and behind a fence.</td>\n",
       "      <td>A brown and white dog runs up to some cows. The cows are assorted colors. The dark brown cow is by a white wooden fence. A white cow stand by the dark brown cow. There is another brown cow by the fence. The fence is made of metal. There is a lot ...</td>\n",
       "      <td>1</td>\n",
       "    </tr>\n",
       "    <tr>\n",
       "      <th>3</th>\n",
       "      <td>A dog walking next to cows in a field and behind a fence.</td>\n",
       "      <td>Two light brown cows stand on a muddy path.  They have horns on their heads.  There are several cows on the ground behind them.  There is a thatched roofed building in the back ground. The building behind it had a blue tarp on part of the roof.  ...</td>\n",
       "      <td>0</td>\n",
       "    </tr>\n",
       "    <tr>\n",
       "      <th>4</th>\n",
       "      <td>Two young men sitting on a touch reading a book together.</td>\n",
       "      <td>Two men are sitting together on a couch. The man on the left has dark pants, a dark shirt, and dark shoes on his feet. The shoes have gold metal on them. The man has dark brown hair and is holding an e-reader. The man on the right is wearing gray...</td>\n",
       "      <td>1</td>\n",
       "    </tr>\n",
       "  </tbody>\n",
       "</table>\n",
       "</div>"
      ],
      "text/plain": [
       "                                                     premise  \\\n",
       "0       a female tennis player in a black top playing tennis   \n",
       "1       a female tennis player in a black top playing tennis   \n",
       "2  A dog walking next to cows in a field and behind a fence.   \n",
       "3  A dog walking next to cows in a field and behind a fence.   \n",
       "4  Two young men sitting on a touch reading a book together.   \n",
       "\n",
       "                                                                                                                                                                                                                                                  hypothesis  \\\n",
       "0                                                                                A woman in a black tennis outfit is standing on a blue tennis court. She is holding a tennis racket and hitting a green tennis ball. She is wearing a red hat on her head.    \n",
       "1  Four children are standing on a tennis court. All of them are holding rackets in their hands. They are standing in a partial line behind each other. A green tennis ball is soaring in the air towards the first child. The tennis court has a pink ha...   \n",
       "2  A brown and white dog runs up to some cows. The cows are assorted colors. The dark brown cow is by a white wooden fence. A white cow stand by the dark brown cow. There is another brown cow by the fence. The fence is made of metal. There is a lot ...   \n",
       "3  Two light brown cows stand on a muddy path.  They have horns on their heads.  There are several cows on the ground behind them.  There is a thatched roofed building in the back ground. The building behind it had a blue tarp on part of the roof.  ...   \n",
       "4  Two men are sitting together on a couch. The man on the left has dark pants, a dark shirt, and dark shoes on his feet. The shoes have gold metal on them. The man has dark brown hair and is holding an e-reader. The man on the right is wearing gray...   \n",
       "\n",
       "   label  \n",
       "0      1  \n",
       "1      0  \n",
       "2      1  \n",
       "3      0  \n",
       "4      1  "
      ]
     },
     "execution_count": 45,
     "metadata": {},
     "output_type": "execute_result"
    }
   ],
   "source": [
    "capdeepdf.head(5)"
   ]
  },
  {
   "cell_type": "code",
   "execution_count": 46,
   "metadata": {},
   "outputs": [],
   "source": [
    "prompt = '''Is Text 2 likely to be a longer description of the situation described by Text 1?'''"
   ]
  },
  {
   "cell_type": "code",
   "execution_count": 47,
   "metadata": {},
   "outputs": [],
   "source": [
    "capdeepdf['prompt'] = prompt"
   ]
  },
  {
   "cell_type": "code",
   "execution_count": 48,
   "metadata": {
    "scrolled": true
   },
   "outputs": [
    {
     "data": {
      "text/html": [
       "<div>\n",
       "<style scoped>\n",
       "    .dataframe tbody tr th:only-of-type {\n",
       "        vertical-align: middle;\n",
       "    }\n",
       "\n",
       "    .dataframe tbody tr th {\n",
       "        vertical-align: top;\n",
       "    }\n",
       "\n",
       "    .dataframe thead th {\n",
       "        text-align: right;\n",
       "    }\n",
       "</style>\n",
       "<table border=\"1\" class=\"dataframe\">\n",
       "  <thead>\n",
       "    <tr style=\"text-align: right;\">\n",
       "      <th></th>\n",
       "      <th>premise</th>\n",
       "      <th>hypothesis</th>\n",
       "      <th>label</th>\n",
       "      <th>prompt</th>\n",
       "    </tr>\n",
       "  </thead>\n",
       "  <tbody>\n",
       "    <tr>\n",
       "      <th>0</th>\n",
       "      <td>a female tennis player in a black top playing tennis</td>\n",
       "      <td>A woman in a black tennis outfit is standing on a blue tennis court. She is holding a tennis racket and hitting a green tennis ball. She is wearing a red hat on her head.</td>\n",
       "      <td>1</td>\n",
       "      <td>Is Text 2 likely to be a longer description of the situation described by Text 1?</td>\n",
       "    </tr>\n",
       "    <tr>\n",
       "      <th>1</th>\n",
       "      <td>a female tennis player in a black top playing tennis</td>\n",
       "      <td>Four children are standing on a tennis court. All of them are holding rackets in their hands. They are standing in a partial line behind each other. A green tennis ball is soaring in the air towards the first child. The tennis court has a pink ha...</td>\n",
       "      <td>0</td>\n",
       "      <td>Is Text 2 likely to be a longer description of the situation described by Text 1?</td>\n",
       "    </tr>\n",
       "  </tbody>\n",
       "</table>\n",
       "</div>"
      ],
      "text/plain": [
       "                                                premise  \\\n",
       "0  a female tennis player in a black top playing tennis   \n",
       "1  a female tennis player in a black top playing tennis   \n",
       "\n",
       "                                                                                                                                                                                                                                                  hypothesis  \\\n",
       "0                                                                                A woman in a black tennis outfit is standing on a blue tennis court. She is holding a tennis racket and hitting a green tennis ball. She is wearing a red hat on her head.    \n",
       "1  Four children are standing on a tennis court. All of them are holding rackets in their hands. They are standing in a partial line behind each other. A green tennis ball is soaring in the air towards the first child. The tennis court has a pink ha...   \n",
       "\n",
       "   label  \\\n",
       "0      1   \n",
       "1      0   \n",
       "\n",
       "                                                                              prompt  \n",
       "0  Is Text 2 likely to be a longer description of the situation described by Text 1?  \n",
       "1  Is Text 2 likely to be a longer description of the situation described by Text 1?  "
      ]
     },
     "execution_count": 48,
     "metadata": {},
     "output_type": "execute_result"
    }
   ],
   "source": [
    "capdeepdf.head(2)"
   ]
  },
  {
   "cell_type": "code",
   "execution_count": 49,
   "metadata": {},
   "outputs": [],
   "source": [
    "capdeepdf.sample(frac=1).to_csv('To_Test/capdeep.csv', index=False)"
   ]
  }
 ],
 "metadata": {
  "kernelspec": {
   "display_name": "Python 2",
   "language": "python",
   "name": "python2"
  },
  "language_info": {
   "codemirror_mode": {
    "name": "ipython",
    "version": 2
   },
   "file_extension": ".py",
   "mimetype": "text/x-python",
   "name": "python",
   "nbconvert_exporter": "python",
   "pygments_lexer": "ipython2",
   "version": "2.7.15"
  },
  "latex_envs": {
   "LaTeX_envs_menu_present": true,
   "autoclose": false,
   "autocomplete": true,
   "bibliofile": "biblio.bib",
   "cite_by": "apalike",
   "current_citInitial": 1,
   "eqLabelWithNumbers": true,
   "eqNumInitial": 1,
   "hotkeys": {
    "equation": "alt-ctrl-e"
   },
   "labels_anchors": false,
   "latex_user_defs": false,
   "report_style_numbering": false,
   "user_envs_cfg": false
  },
  "toc": {
   "base_numbering": 1,
   "nav_menu": {},
   "number_sections": true,
   "sideBar": true,
   "skip_h1_title": false,
   "title_cell": "Table of Contents",
   "title_sidebar": "Contents",
   "toc_cell": false,
   "toc_position": {},
   "toc_section_display": true,
   "toc_window_display": false
  }
 },
 "nbformat": 4,
 "nbformat_minor": 2
}
